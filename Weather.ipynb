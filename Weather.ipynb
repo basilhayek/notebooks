{
  "nbformat": 4,
  "nbformat_minor": 0,
  "metadata": {
    "colab": {
      "name": "Weather",
      "provenance": [],
      "collapsed_sections": [],
      "authorship_tag": "ABX9TyMK7AaJIGOgEtdqfPQx6TQA",
      "include_colab_link": true
    },
    "kernelspec": {
      "name": "python3",
      "display_name": "Python 3"
    },
    "language_info": {
      "name": "python"
    }
  },
  "cells": [
    {
      "cell_type": "markdown",
      "metadata": {
        "id": "view-in-github",
        "colab_type": "text"
      },
      "source": [
        "<a href=\"https://colab.research.google.com/github/basilhayek/notebooks/blob/main/Weather.ipynb\" target=\"_parent\"><img src=\"https://colab.research.google.com/assets/colab-badge.svg\" alt=\"Open In Colab\"/></a>"
      ]
    },
    {
      "cell_type": "code",
      "execution_count": 2,
      "metadata": {
        "colab": {
          "base_uri": "https://localhost:8080/"
        },
        "id": "MKcEYm74gzEh",
        "outputId": "2c279930-ce8d-4c67-8c05-529d231d239c"
      },
      "outputs": [
        {
          "output_type": "stream",
          "name": "stdout",
          "text": [
            "Reading package lists... Done\n",
            "Building dependency tree       \n",
            "Reading state information... Done\n",
            "libjpeg-dev is already the newest version (8c-2ubuntu8).\n",
            "libjpeg-dev set to manually installed.\n",
            "libgif-dev is already the newest version (5.1.4-2ubuntu0.1).\n",
            "libgif-dev set to manually installed.\n",
            "The following additional packages will be installed:\n",
            "  libcairo-script-interpreter2 libpixman-1-dev libxcb-shm0-dev\n",
            "Suggested packages:\n",
            "  libcairo2-doc\n",
            "The following NEW packages will be installed:\n",
            "  libcairo-script-interpreter2 libcairo2-dev libpixman-1-dev libxcb-shm0-dev\n",
            "0 upgraded, 4 newly installed, 0 to remove and 39 not upgraded.\n",
            "Need to get 930 kB of archives.\n",
            "After this operation, 3,986 kB of additional disk space will be used.\n",
            "Get:1 http://archive.ubuntu.com/ubuntu bionic-updates/main amd64 libcairo-script-interpreter2 amd64 1.15.10-2ubuntu0.1 [53.5 kB]\n",
            "Get:2 http://archive.ubuntu.com/ubuntu bionic/main amd64 libpixman-1-dev amd64 0.34.0-2 [244 kB]\n",
            "Get:3 http://archive.ubuntu.com/ubuntu bionic-updates/main amd64 libxcb-shm0-dev amd64 1.13-2~ubuntu18.04 [6,684 B]\n",
            "Get:4 http://archive.ubuntu.com/ubuntu bionic-updates/main amd64 libcairo2-dev amd64 1.15.10-2ubuntu0.1 [626 kB]\n",
            "Fetched 930 kB in 1s (1,191 kB/s)\n",
            "Selecting previously unselected package libcairo-script-interpreter2:amd64.\n",
            "(Reading database ... 155455 files and directories currently installed.)\n",
            "Preparing to unpack .../libcairo-script-interpreter2_1.15.10-2ubuntu0.1_amd64.deb ...\n",
            "Unpacking libcairo-script-interpreter2:amd64 (1.15.10-2ubuntu0.1) ...\n",
            "Selecting previously unselected package libpixman-1-dev:amd64.\n",
            "Preparing to unpack .../libpixman-1-dev_0.34.0-2_amd64.deb ...\n",
            "Unpacking libpixman-1-dev:amd64 (0.34.0-2) ...\n",
            "Selecting previously unselected package libxcb-shm0-dev:amd64.\n",
            "Preparing to unpack .../libxcb-shm0-dev_1.13-2~ubuntu18.04_amd64.deb ...\n",
            "Unpacking libxcb-shm0-dev:amd64 (1.13-2~ubuntu18.04) ...\n",
            "Selecting previously unselected package libcairo2-dev:amd64.\n",
            "Preparing to unpack .../libcairo2-dev_1.15.10-2ubuntu0.1_amd64.deb ...\n",
            "Unpacking libcairo2-dev:amd64 (1.15.10-2ubuntu0.1) ...\n",
            "Setting up libcairo-script-interpreter2:amd64 (1.15.10-2ubuntu0.1) ...\n",
            "Setting up libxcb-shm0-dev:amd64 (1.13-2~ubuntu18.04) ...\n",
            "Setting up libpixman-1-dev:amd64 (0.34.0-2) ...\n",
            "Setting up libcairo2-dev:amd64 (1.15.10-2ubuntu0.1) ...\n",
            "Processing triggers for libc-bin (2.27-3ubuntu1.3) ...\n",
            "/sbin/ldconfig.real: /usr/local/lib/python3.7/dist-packages/ideep4py/lib/libmkldnn.so.0 is not a symbolic link\n",
            "\n",
            "Collecting pycairo\n",
            "  Downloading pycairo-1.21.0.tar.gz (340 kB)\n",
            "\u001b[K     |████████████████████████████████| 340 kB 14.2 MB/s \n",
            "\u001b[?25h  Installing build dependencies ... \u001b[?25l\u001b[?25hdone\n",
            "  Getting requirements to build wheel ... \u001b[?25l\u001b[?25hdone\n",
            "    Preparing wheel metadata ... \u001b[?25l\u001b[?25hdone\n",
            "Building wheels for collected packages: pycairo\n",
            "  Building wheel for pycairo (PEP 517) ... \u001b[?25l\u001b[?25hdone\n",
            "  Created wheel for pycairo: filename=pycairo-1.21.0-cp37-cp37m-linux_x86_64.whl size=286837 sha256=89f96644232d591625ba991e6003d5a9e4ef5f9b989194a661060756c541bddc\n",
            "  Stored in directory: /root/.cache/pip/wheels/69/1e/e8/ea8e397b1bea0fcbcffad6477c5ced6550a2adc259ed400405\n",
            "Successfully built pycairo\n",
            "Installing collected packages: pycairo\n",
            "Successfully installed pycairo-1.21.0\n"
          ]
        }
      ],
      "source": [
        "# This advice comes from https://github.com/pygobject/pycairo/issues/39#issuecomment-391830334\n",
        "!apt-get install libcairo2-dev libjpeg-dev libgif-dev\n",
        "!pip install pycairo"
      ]
    },
    {
      "cell_type": "code",
      "source": [
        "import math\n",
        "\n",
        "import cairo\n",
        "from google.colab import files\n",
        "from IPython.display import SVG, display, Image\n"
      ],
      "metadata": {
        "id": "ylr_v4Ekh2Q0"
      },
      "execution_count": 38,
      "outputs": []
    },
    {
      "cell_type": "code",
      "source": [
        "def show_svg(file):\n",
        "    display(SVG(filename=file))\n",
        "\n",
        "# https://stackoverflow.com/questions/11854847/how-can-i-display-an-image-from-a-file-in-jupyter-notebook/35061341#35061341\n",
        "def show_png(file):\n",
        "    display(Image(filename=file))"
      ],
      "metadata": {
        "id": "DmGUr0Smhlov"
      },
      "execution_count": 4,
      "outputs": []
    },
    {
      "cell_type": "code",
      "source": [
        "from math import atan2, pi\n",
        "\n",
        "# https://www.codegrepper.com/code-examples/python/calculate+angle+between+3+points+python\n",
        "def angle(A, B, C):\n",
        "    Ax, Ay = A[0]-B[0], A[1]-B[1]\n",
        "    Cx, Cy = C[0]-B[0], C[1]-B[1]\n",
        "    a = atan2(Ay, Ax)\n",
        "    c = atan2(Cy, Cx)\n",
        "    if a < 0: a += pi*2\n",
        "    if c < 0: c += pi*2\n",
        "    return (pi*2 + c - a) if a > c else (c - a)"
      ],
      "metadata": {
        "id": "Whc5Qkovwe47"
      },
      "execution_count": 5,
      "outputs": []
    },
    {
      "cell_type": "code",
      "source": [
        "class WeatherPlot():\n",
        "    def __init__(self):\n",
        "        WIDTH, HEIGHT = 480, 480\n",
        "        \n",
        "        self._surface = cairo.ImageSurface(cairo.FORMAT_ARGB32, WIDTH, HEIGHT)\n",
        "\n",
        "        ctx = cairo.Context(self._surface)\n",
        "        ctx.scale(WIDTH, HEIGHT)  # Normalizing the canvas\n",
        "\n",
        "        ctx.set_source_rgb(1, 1, 1)\n",
        "        ctx.rectangle(0,0, 1, 1)\n",
        "        ctx.fill()\n",
        "        self._ctx = ctx\n",
        "        self._num_hours = None\n",
        "        self._int_width = None\n",
        "\n",
        "    def _set_intervals(self, hours):\n",
        "        self._num_hours = len(hours)\n",
        "        self._int_width = 1 / self._num_hours\n",
        "\n",
        "    def _isvalid(self, weather_list):\n",
        "        if weather_list is None:\n",
        "            return False\n",
        "        elif isinstance(weather_list, tuple):\n",
        "            for x in weather_list:\n",
        "                if not self._isvalid(x):\n",
        "                    return False\n",
        "            return True\n",
        "        elif not isinstance(weather_list, list):\n",
        "            return False\n",
        "        elif len(weather_list) != self._num_hours:\n",
        "            return False\n",
        "        else:\n",
        "            return True\n",
        "\n",
        "\n",
        "    def _scaled_list(self, l, scale_min=None, scale_max=None):\n",
        "        if scale_min is None:\n",
        "            scale_min = min(l)\n",
        "        if scale_max is None:\n",
        "            scale_max = max(l)\n",
        "\n",
        "        s = [x - scale_min for x in l]\n",
        "        s = [x / (scale_max - scale_min) for x in s]\n",
        "        return s\n",
        "\n",
        "    def _add_precip(self, precip_pct, precip_acc):\n",
        "        scaled_acc = self._scaled_list(precip_acc)\n",
        "        \n",
        "        ctx = self._ctx\n",
        "        for idx, pct in enumerate(precip_pct):\n",
        "            x0 = idx * self._int_width + 0.1 * self._int_width\n",
        "            y0 = 1 - pct\n",
        "            acc = scaled_acc[idx]\n",
        "\n",
        "            pat = cairo.LinearGradient(0.0, 0.0, 0.0, 1.0)\n",
        "            # First stop: lighter if lower accumulation, blue = 100%\n",
        "            pat.add_color_stop_rgba(y0, 1 - acc, 1 - acc, 1, 1)\n",
        "            # Last stop: RGB = 0.8, 0.8, 100\n",
        "            pat.add_color_stop_rgba(1, 0.8, 0.8, 1, 1) \n",
        "        \n",
        "            ctx.rectangle(x0, y0, 0.9 * self._int_width, 1)  # Rectangle(x0, y0, x1, y1)\n",
        "            ctx.set_source(pat)\n",
        "            ctx.fill()\n",
        "\n",
        "    # Determine where a given point falls relative to the previous / next point\n",
        "    # calculate bisector?\n",
        "    def _path_dir():\n",
        "        pass\n",
        "\n",
        "    # Place the text\n",
        "    def _write_text(self, ctx, x, y, text):\n",
        "        ctx.set_source_rgb(1, 1, 1)\n",
        "        ctx.select_font_face(\"Arial\", cairo.FONT_SLANT_NORMAL, \n",
        "            cairo.FONT_WEIGHT_BOLD)\n",
        "        ctx.set_font_size(self._int_width / 2.2)\n",
        "\n",
        "        #(x, y, width, height, dx, dy) = cr.text_extents(\"ZetCode\")\n",
        "        (_, _, width, height, _, _) = ctx.text_extents(text)\n",
        "        x = x - width / 2\n",
        "        y = y + height / 2\n",
        "        ctx.move_to(x, y)\n",
        "        ctx.show_text(text)\n",
        "\n",
        "        ctx.stroke()\n",
        "\n",
        "\n",
        "    def _add_temps(self, temps):\n",
        "        scaled_temps = self._scaled_list(temps)\n",
        "\n",
        "        # Create a buffer above / below the line graph\n",
        "        scaled_temps = self._scaled_list(scaled_temps, -0.1, 1.1)\n",
        "\n",
        "        ctx = self._ctx\n",
        "        ctx.set_source_rgba(1, 0, 0, 1)\n",
        "        ctx.set_line_width(self._int_width / 20)\n",
        "\n",
        "        oldy = None\n",
        "        for idx, temp in enumerate(scaled_temps):\n",
        "            x0 = idx * self._int_width + self._int_width / 2\n",
        "            y0 = 1 - temp\n",
        "            if not oldy is None:\n",
        "                if y0 > oldy:\n",
        "                    ctx.set_source_rgba(0.7, 0, 0, 1)\n",
        "                elif y0 < oldy:\n",
        "                    ctx.set_source_rgba(1, 0, 0, 1)\n",
        "                else:\n",
        "                    ctx.set_source_rgba(0.4, 0, 0, 1)\n",
        "                ctx.line_to(x0, y0)\n",
        "                ctx.stroke()\n",
        "            ctx.move_to(x0, y0)\n",
        "            oldy = y0\n",
        "\n",
        "\n",
        "        ctx.stroke()\n",
        "\n",
        "        \n",
        "        min_temp = min(temps)\n",
        "        max_temp = max(temps)\n",
        "        for idx, temp in enumerate(temps):\n",
        "            if idx == 0 or idx == len(temps) -1 or temp in [min_temp, max_temp]:\n",
        "                x0 = idx * self._int_width + self._int_width / 2\n",
        "                y0 = 1 - scaled_temps[idx]\n",
        "                #ctx.move_to(x0, y0)\n",
        "                #ctx.show_text(\"{}\".format(temp))\n",
        "                ctx.set_source_rgba(0.7,0,0,1)\n",
        "                ctx.arc(x0, y0, self._int_width / 2, 0, 2*math.pi)\n",
        "                ctx.fill()\n",
        "                self._write_text(ctx, x0, y0, \"{}\".format(temp))\n",
        "\n",
        "\n",
        "\n",
        "    def draw_weather(self, hours, temps=None, precip_pct=None, precip_acc=None):\n",
        "        self._set_intervals(hours)\n",
        "\n",
        "        if self._isvalid((precip_pct, precip_acc)): \n",
        "            self._add_precip(precip_pct, precip_acc)\n",
        "        if self._isvalid(temps):\n",
        "            self._add_temps(temps)\n",
        "\n",
        "        self._surface.write_to_png(\"weather.png\")\n",
        "        show_png(\"weather.png\")\n",
        "\n",
        "    \n",
        "\n"
      ],
      "metadata": {
        "id": "jQZVk7qVoeKf"
      },
      "execution_count": 48,
      "outputs": []
    },
    {
      "cell_type": "code",
      "source": [
        "wp = WeatherPlot()\n",
        "rain_pct = [0.7, 0.5, 0.6, 0.6, 0.9, 0.9, 0.9, 1, 0.8, 0.5, 0.4, 0]\n",
        "rain_acc = [0.02, 0.01, 0.01, 0.02, 0.02, 0.03, 0.05, 0.07, 0.05, 0.03, 0.01, 0]\n",
        "temps = [65, 67, 70, 75, 73, 77, 74, 73, 74, 70, 70, 68]\n",
        "\n",
        "wp.draw_weather([1,2,3,4,5,6,7,8,9,10,11,12], temps, rain_pct, rain_acc)"
      ],
      "metadata": {
        "colab": {
          "base_uri": "https://localhost:8080/",
          "height": 497
        },
        "id": "SwxcNmr8-CJG",
        "outputId": "c38a9914-d6fc-4a2f-a66d-60c901bae9b7"
      },
      "execution_count": 49,
      "outputs": [
        {
          "output_type": "display_data",
          "data": {
            "text/plain": [
              "<IPython.core.display.Image object>"
            ],
            "image/png": "[encoded data removed]"
          },
          "metadata": {}
        }
      ]
    }
  ]
}